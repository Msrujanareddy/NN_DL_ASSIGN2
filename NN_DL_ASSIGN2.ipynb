{
 "cells": [
  {
   "cell_type": "code",
   "execution_count": 1,
   "id": "e20aea5e",
   "metadata": {},
   "outputs": [
    {
     "name": "stdout",
     "output_type": "stream",
     "text": [
      "Enter first name: Srujana Reddy\n",
      "Enter last name: Makutam\n",
      "Full name is: Srujana Reddy Makutam\n",
      "Alternative name is: SuaaRdyMktm\n"
     ]
    }
   ],
   "source": [
    "#defining a function as fullname\n",
    "def fullname(firstName, lastName):\n",
    "    return firstName + \" \" + lastName\n",
    "#defining another function as string_alternative\n",
    "def string_alternative(name):\n",
    "    return name[::2]\n",
    "#defining a main method to call the functions\n",
    "def main():\n",
    "    firstName = input(\"Enter first name: \")\n",
    "    lastName = input(\"Enter last name: \")\n",
    "    fullName = fullname(firstName, lastName)\n",
    "    print(\"Full name is:\", fullName)\n",
    "    alternative_string = string_alternative(fullName)\n",
    "    print(\"Alternative name is:\", alternative_string)\n",
    "\n",
    "if __name__ == \"__main__\":\n",
    "    main()"
   ]
  },
  {
   "cell_type": "code",
   "execution_count": 6,
   "id": "e38ac5fd",
   "metadata": {},
   "outputs": [
    {
     "name": "stdout",
     "output_type": "stream",
     "text": [
      "Python Course\n",
      "Deep Learning Course\n",
      "\n",
      "word_count:\n",
      "Python: 1\n",
      "Course: 2\n",
      "Deep: 1\n",
      "Learning: 1\n"
     ]
    }
   ],
   "source": [
    "#2 This function reads the input from the input.txt file and stores each line\n",
    "#in a list called lines, and returns the lines list\n",
    "def readInput(fileName):\n",
    "    lines=[]\n",
    "    with open(fileName, 'r') as file:\n",
    "        lines = file.readlines()\n",
    "    return lines\n",
    "#This function takes the count dictionary as a parameter and writes it to output.txt file\n",
    "def writeOutput(count):\n",
    "    with open('output.txt', 'w') as f:\n",
    "        f.write(str(count))\n",
    "#This function takes the lines list and input and returns the count for each word in the dictionary     \n",
    "def wordCount(lines):\n",
    "    count = {}\n",
    "    for line in lines:\n",
    "        print(line.strip())\n",
    "        words = line.strip().split(\" \")\n",
    "        for word in words:\n",
    "            if word in count:\n",
    "                count[word] += 1\n",
    "            else:\n",
    "                count[word] = 1\n",
    "    \n",
    "    print(\"\\nword_count:\")    \n",
    "    for key, value in count.items():\n",
    "        print(key + \":\", value)\n",
    "\n",
    "    return count\n",
    "\n",
    "def main():\n",
    "    #read the input from the input file and store the lines\n",
    "    lines= readInput('C:\\\\Users\\\\makut\\\\OneDrive\\\\Desktop\\\\input.txt')\n",
    "    #Getting count of each word in a dictionary and storing it in a variable\n",
    "    count= wordCount(lines)\n",
    "    writeOutput(count)\n",
    "\n",
    "if __name__ == \"__main__\":\n",
    "    main()"
   ]
  },
  {
   "cell_type": "code",
   "execution_count": 8,
   "id": "3ac1ebe4",
   "metadata": {},
   "outputs": [
    {
     "name": "stdout",
     "output_type": "stream",
     "text": [
      "Enter the Number of Customers: 3\n",
      "150\n",
      "155\n",
      "160\n",
      "Input List:  [150, 155, 160]\n"
     ]
    }
   ],
   "source": [
    "# 3) #program, which reads heights (inches) customers into a list and convert these heights\n",
    "height_list = []\n",
    "\n",
    "N = int (input(\"Enter the Number of Customers: \"))\n",
    "for i in range(0,N):\n",
    "    item = int(input())\n",
    "    height_list.append(item)\n",
    "\n",
    "print(\"Input List: \", height_list)\n"
   ]
  },
  {
   "cell_type": "code",
   "execution_count": 15,
   "id": "50e56792",
   "metadata": {},
   "outputs": [
    {
     "name": "stdout",
     "output_type": "stream",
     "text": [
      "[381.0, 393.7, 406.4]\n"
     ]
    }
   ],
   "source": [
    "#centimeters in a separate list using nested interactive loop:\n",
    "iterative_list = []\n",
    "for height in height_list:\n",
    "    h = height*2.54\n",
    "    iterative_list.append(h)\n",
    "print(iterative_list)"
   ]
  },
  {
   "cell_type": "code",
   "execution_count": 16,
   "id": "d31b6d4f",
   "metadata": {},
   "outputs": [
    {
     "name": "stdout",
     "output_type": "stream",
     "text": [
      "New Converted List:  [381.0, 393.7, 406.4]\n"
     ]
    }
   ],
   "source": [
    "#list comprehensions\n",
    "comprehensive_list = [x*2.54 for x in height_list]\n",
    "print (\"New Converted List: \",comprehensive_list)"
   ]
  },
  {
   "cell_type": "code",
   "execution_count": null,
   "id": "3ed21a35",
   "metadata": {},
   "outputs": [],
   "source": []
  }
 ],
 "metadata": {
  "kernelspec": {
   "display_name": "Python 3 (ipykernel)",
   "language": "python",
   "name": "python3"
  },
  "language_info": {
   "codemirror_mode": {
    "name": "ipython",
    "version": 3
   },
   "file_extension": ".py",
   "mimetype": "text/x-python",
   "name": "python",
   "nbconvert_exporter": "python",
   "pygments_lexer": "ipython3",
   "version": "3.9.12"
  }
 },
 "nbformat": 4,
 "nbformat_minor": 5
}
